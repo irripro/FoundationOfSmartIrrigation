{
 "cells": [
  {
   "cell_type": "markdown",
   "metadata": {},
   "source": [
    "### 2. 面向对象编程 (OOP)\n",
    "- **类与对象**：学习如何定义类、创建对象以及类成员（属性和方法）。\n"
   ]
  },
  {
   "cell_type": "code",
   "execution_count": 1,
   "metadata": {},
   "outputs": [
    {
     "name": "stdout",
     "output_type": "stream",
     "text": [
      "Dog makes a noise.\n"
     ]
    }
   ],
   "source": [
    "class Animal:\n",
    "    def __init__(self, name):\n",
    "        self.name = name  # 公共属性\n",
    "\n",
    "    def speak(self):\n",
    "        return f\"{self.name} makes a noise.\"\n",
    "\n",
    "# 创建对象\n",
    "dog = Animal(\"Dog\")\n",
    "print(dog.speak())  # 输出: Dog makes a noise."
   ]
  },
  {
   "cell_type": "markdown",
   "metadata": {},
   "source": [
    "- **继承**：理解子类如何继承父类的属性和方法，并能够进行扩展或重写。\n"
   ]
  },
  {
   "cell_type": "code",
   "execution_count": 2,
   "metadata": {},
   "outputs": [
    {
     "name": "stdout",
     "output_type": "stream",
     "text": [
      "Rex barks.\n",
      "Golden Retriever\n"
     ]
    }
   ],
   "source": [
    "class Dog(Animal):\n",
    "    def __init__(self, name, breed):\n",
    "        super().__init__(name)  # 调用父类的构造函数\n",
    "        self.breed = breed  # 子类特有的属性\n",
    "\n",
    "    def speak(self):\n",
    "        return f\"{self.name} barks.\"\n",
    "\n",
    "# 创建子类对象\n",
    "my_dog = Dog(\"Rex\", \"Golden Retriever\")\n",
    "print(my_dog.speak())  # 输出: Rex barks.\n",
    "print(my_dog.breed)  # 输出: Golden Retriever"
   ]
  },
  {
   "cell_type": "markdown",
   "metadata": {},
   "source": [
    "- **封装**：通过访问修饰符（public, private, protected）来控制对类成员的访问。\n",
    "在 Python 中，没有严格的访问修饰符如 public, private, protected，但可以通过命名约定来模拟这些行为。\n",
    "\n",
    "public：默认情况下，所有成员都是公共的。\n",
    "protected：使用单下划线 _ 前缀表示受保护的成员（约定俗成）。\n",
    "private：使用双下划线 __ 前缀表示私有成员。\n"
   ]
  },
  {
   "cell_type": "code",
   "execution_count": 3,
   "metadata": {},
   "outputs": [
    {
     "name": "stdout",
     "output_type": "stream",
     "text": [
      "Deposited 50. New balance: 150\n",
      "Current balance: 150\n"
     ]
    }
   ],
   "source": [
    "class BankAccount:\n",
    "    def __init__(self, owner, balance=0):\n",
    "        self.owner = owner\n",
    "        self._balance = balance  # 受保护的属性\n",
    "\n",
    "    def deposit(self, amount):\n",
    "        if amount > 0:\n",
    "            self._balance += amount\n",
    "            print(f\"Deposited {amount}. New balance: {self._balance}\")\n",
    "        else:\n",
    "            print(\"Deposit amount must be positive.\")\n",
    "\n",
    "    def _show_balance(self):  # 受保护的方法\n",
    "        print(f\"Current balance: {self._balance}\")\n",
    "\n",
    "# 创建对象\n",
    "account = BankAccount(\"Alice\", 100)\n",
    "account.deposit(50)  # 输出: Deposited 50. New balance: 150\n",
    "account._show_balance()  # 输出: Current balance: 150"
   ]
  },
  {
   "cell_type": "markdown",
   "metadata": {},
   "source": [
    "- **多态**：实现不同类的对象可以响应相同的方法调用。\n",
    "多态允许不同类的对象通过相同的接口进行响应。在 Python 中，多态通常是隐式的。"
   ]
  },
  {
   "cell_type": "code",
   "execution_count": 4,
   "metadata": {},
   "outputs": [
    {
     "name": "stdout",
     "output_type": "stream",
     "text": [
      "Rex barks.\n",
      "Whiskers meows.\n"
     ]
    }
   ],
   "source": [
    "class Cat(Animal):\n",
    "    def speak(self):\n",
    "        return f\"{self.name} meows.\"\n",
    "\n",
    "# 创建不同类的对象\n",
    "animals = [Dog(\"Rex\", \"Golden Retriever\"), Cat(\"Whiskers\")]\n",
    "\n",
    "# 多态示例\n",
    "for animal in animals:\n",
    "    print(animal.speak())\n",
    "# 输出:\n",
    "# Rex barks.\n",
    "# Whiskers meows."
   ]
  },
  {
   "cell_type": "markdown",
   "metadata": {},
   "source": [
    "总结\n",
    "类与对象：定义了类 Animal 和其子类 Dog，并创建了对象。\n",
    "继承：Dog 类继承自 Animal 类，并扩展了新的属性和方法。\n",
    "封装：使用单下划线 _ 来表示受保护的成员，并提供了访问这些成员的方法。\n",
    "多态：通过一个统一的接口（speak 方法），不同的类可以有不同的实现。\n",
    "这些示例代码可以帮助你理解和应用 OOP 的基本概念。"
   ]
  }
 ],
 "metadata": {
  "kernelspec": {
   "display_name": "Python 3",
   "language": "python",
   "name": "python3"
  },
  "language_info": {
   "codemirror_mode": {
    "name": "ipython",
    "version": 3
   },
   "file_extension": ".py",
   "mimetype": "text/x-python",
   "name": "python",
   "nbconvert_exporter": "python",
   "pygments_lexer": "ipython3",
   "version": "3.11.0rc2"
  }
 },
 "nbformat": 4,
 "nbformat_minor": 2
}
