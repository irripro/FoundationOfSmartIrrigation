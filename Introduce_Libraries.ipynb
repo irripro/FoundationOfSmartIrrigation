{
 "cells": [
  {
   "cell_type": "markdown",
   "metadata": {},
   "source": [
    "### 4. 标准库与第三方库\n",
    "- **标准库**：熟悉常用的内置库，如os, sys, math, datetime, json等。\n",
    "- **第三方库**：学习如何安装和使用流行的第三方库，例如NumPy, Pandas, Matplotlib, Flask, Django等。"
   ]
  },
  {
   "cell_type": "markdown",
   "metadata": {},
   "source": [
    "下面我将提供一些示例代码来展示如何使用Python的标准库和第三方库。这些示例将包括标准库中的os, sys, math, datetime, 和 json，以及第三方库NumPy, Pandas, Matplotlib, Flask 和 Django 的基本用法。\n",
    "\n",
    "请注意，对于第三方库的安装，通常需要使用pip命令。如果你还没有安装这些第三方库，你可以通过运行pip install <library_name>来安装它们。\n",
    "\n",
    "标准库示例\n",
    "os - 用于与操作系统交互\n",
    "sys - 访问与Python解释器紧密相关的变量和函数\n",
    "math - 提供对C标准定义的数学函数的访问\n",
    "datetime - 日期和时间处理\n"
   ]
  },
  {
   "cell_type": "code",
   "execution_count": null,
   "metadata": {},
   "outputs": [],
   "source": [
    "import os\n",
    "import sys\n",
    "import math\n",
    "from datetime import datetime\n",
    "import json\n",
    "\n",
    "# os: 获取当前工作目录\n",
    "print(\"Current Working Directory:\", os.getcwd())\n",
    "\n",
    "# sys: 获取Python版本\n",
    "print(\"Python Version:\", sys.version)\n",
    "\n",
    "# math: 计算平方根\n",
    "print(\"Square root of 16:\", math.sqrt(16))\n",
    "\n",
    "# datetime: 获取当前日期和时间\n",
    "print(\"Current Date and Time:\", datetime.now().strftime(\"%Y-%m-%d %H:%M:%S\"))\n",
    "\n",
    "# json: 编码一个字典为JSON字符串\n",
    "data = {\"name\": \"Alice\", \"age\": 30}\n",
    "json_data = json.dumps(data)\n",
    "print(\"JSON Encoded Data:\", json_data)"
   ]
  },
  {
   "cell_type": "markdown",
   "metadata": {},
   "source": [
    "#### 第三方库示例\n",
    "为了演示第三方库，我们需要确保已经安装了它们。以下是每个库的一个简单例子：\n",
    "\n",
    "NumPy - 数值计算库\n",
    "Pandas - 数据分析库\n",
    "Matplotlib - 绘图库\n",
    "Flask - 轻量级Web应用框架\n",
    "Django - 高级Web框架\n",
    "由于Flask和Django是Web框架，它们的使用会涉及到创建Web应用，这超出了这里简短示例的范围。因此，我将只给出NumPy, Pandas和Matplotlib的例子。"
   ]
  },
  {
   "cell_type": "code",
   "execution_count": null,
   "metadata": {},
   "outputs": [],
   "source": [
    "# NumPy: 创建数组并执行操作\n",
    "import numpy as np\n",
    "array = np.array([1, 2, 3, 4, 5])\n",
    "print(\"Array Mean:\", np.mean(array))\n",
    "\n",
    "# Pandas: 创建数据帧并进行简单的数据分析\n",
    "import pandas as pd\n",
    "df = pd.DataFrame({\n",
    "    'Name': ['Alice', 'Bob', 'Charlie'],\n",
    "    'Age': [25, 30, 35]\n",
    "})\n",
    "print(\"Data Frame:\")\n",
    "print(df)\n",
    "\n",
    "# Matplotlib: 绘制简单的图表\n",
    "import matplotlib.pyplot as plt\n",
    "\n",
    "# 创建数据\n",
    "x = np.linspace(0, 10, 100)\n",
    "y = np.sin(x)\n",
    "\n",
    "# 绘制图表\n",
    "plt.plot(x, y)\n",
    "plt.title('Sine Wave')\n",
    "plt.xlabel('X axis')\n",
    "plt.ylabel('Y axis')\n",
    "plt.show()"
   ]
  },
  {
   "cell_type": "markdown",
   "metadata": {},
   "source": [
    "如果你想要运行上面的代码示例，请确保你的环境中已安装了相应的库。安装 NumPy, Pandas和Matplotlib的示例，在命令行运行：“pip install numpy pandas matplotlib”。"
   ]
  }
 ],
 "metadata": {
  "language_info": {
   "name": "python"
  }
 },
 "nbformat": 4,
 "nbformat_minor": 2
}
