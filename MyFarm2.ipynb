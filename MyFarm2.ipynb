{
 "cells": [
  {
   "cell_type": "code",
   "execution_count": 1,
   "metadata": {},
   "outputs": [
    {
     "data": {
      "text/html": [
       "\n",
       "<style>\n",
       "    .farm-grid {\n",
       "        display: grid;\n",
       "        grid-template-columns: repeat(3, 1fr);\n",
       "        gap: 10px;\n",
       "    }\n",
       "    .plot {\n",
       "        background: #A5D6A7;\n",
       "        padding: 20px;\n",
       "        border-radius: 10px;\n",
       "        text-align: center;\n",
       "        font-size: 24px;\n",
       "    }\n",
       "    .shop-item {\n",
       "        margin: 10px;\n",
       "        padding: 10px;\n",
       "        background: #fff;\n",
       "        border-radius: 5px;\n",
       "    }\n",
       "    .header {\n",
       "        font-size: 18px;\n",
       "        margin-bottom: 10px;\n",
       "    }\n",
       "</style>\n"
      ],
      "text/plain": [
       "<IPython.core.display.HTML object>"
      ]
     },
     "metadata": {},
     "output_type": "display_data"
    },
    {
     "data": {
      "application/vnd.jupyter.widget-view+json": {
       "model_id": "55d4f10380b74570a6a0ea14bd09dd6a",
       "version_major": 2,
       "version_minor": 0
      },
      "text/plain": [
       "HTML(value='<div class=\"header\">金币: 100</div>')"
      ]
     },
     "metadata": {},
     "output_type": "display_data"
    },
    {
     "data": {
      "application/vnd.jupyter.widget-view+json": {
       "model_id": "7c871886184a4ad7aa0958121af0bde2",
       "version_major": 2,
       "version_minor": 0
      },
      "text/plain": [
       "GridBox(children=(Button(description='⬜', style=ButtonStyle()), Button(description='⬜', style=ButtonStyle()), …"
      ]
     },
     "metadata": {},
     "output_type": "display_data"
    },
    {
     "data": {
      "application/vnd.jupyter.widget-view+json": {
       "model_id": "2c57ba7fce314f2d841aba576663d203",
       "version_major": 2,
       "version_minor": 0
      },
      "text/plain": [
       "VBox(children=(Button(description='小麦 (成本: 10)', style=ButtonStyle()), Button(description='玉米 (成本: 20)', style…"
      ]
     },
     "metadata": {},
     "output_type": "display_data"
    },
    {
     "name": "stdout",
     "output_type": "stream",
     "text": [
      "成功购买并种植 小麦！\n"
     ]
    },
    {
     "data": {
      "application/vnd.jupyter.widget-view+json": {
       "model_id": "12f8c671a03a4abb90e6c6605505338e",
       "version_major": 2,
       "version_minor": 0
      },
      "text/plain": [
       "HTML(value='<div class=\"header\">金币: 90</div>')"
      ]
     },
     "metadata": {},
     "output_type": "display_data"
    },
    {
     "data": {
      "application/vnd.jupyter.widget-view+json": {
       "model_id": "c047ee3780834878bf7da01a271a7c62",
       "version_major": 2,
       "version_minor": 0
      },
      "text/plain": [
       "GridBox(children=(Button(description='🌱', style=ButtonStyle()), Button(description='⬜', style=ButtonStyle()), …"
      ]
     },
     "metadata": {},
     "output_type": "display_data"
    },
    {
     "data": {
      "application/vnd.jupyter.widget-view+json": {
       "model_id": "e2c82f7612c141cb8e7324db319dd1ef",
       "version_major": 2,
       "version_minor": 0
      },
      "text/plain": [
       "VBox(children=(Button(description='小麦 (成本: 10)', style=ButtonStyle()), Button(description='玉米 (成本: 20)', style…"
      ]
     },
     "metadata": {},
     "output_type": "display_data"
    },
    {
     "data": {
      "application/vnd.jupyter.widget-view+json": {
       "model_id": "e97463d880724a98a7104603f03c04fc",
       "version_major": 2,
       "version_minor": 0
      },
      "text/plain": [
       "VBox(children=(Button(description='小麦 (成本: 10)', style=ButtonStyle()), Button(description='玉米 (成本: 20)', style…"
      ]
     },
     "metadata": {},
     "output_type": "display_data"
    },
    {
     "data": {
      "application/vnd.jupyter.widget-view+json": {
       "model_id": "db1ad364db7a4a338272ec4f9e5de047",
       "version_major": 2,
       "version_minor": 0
      },
      "text/plain": [
       "VBox(children=(Button(description='小麦 (成本: 10)', style=ButtonStyle()), Button(description='玉米 (成本: 20)', style…"
      ]
     },
     "metadata": {},
     "output_type": "display_data"
    },
    {
     "name": "stdout",
     "output_type": "stream",
     "text": [
      "成功购买并种植 玉米！\n"
     ]
    },
    {
     "data": {
      "application/vnd.jupyter.widget-view+json": {
       "model_id": "a55c110da92a4007ba9f689f0e076106",
       "version_major": 2,
       "version_minor": 0
      },
      "text/plain": [
       "HTML(value='<div class=\"header\">金币: 70</div>')"
      ]
     },
     "metadata": {},
     "output_type": "display_data"
    },
    {
     "data": {
      "application/vnd.jupyter.widget-view+json": {
       "model_id": "4daeb5897ae747d8a11691558344cac6",
       "version_major": 2,
       "version_minor": 0
      },
      "text/plain": [
       "GridBox(children=(Button(description='🌱', style=ButtonStyle()), Button(description='⬜', style=ButtonStyle()), …"
      ]
     },
     "metadata": {},
     "output_type": "display_data"
    },
    {
     "name": "stdout",
     "output_type": "stream",
     "text": [
      "成功购买并种植 胡萝卜！\n"
     ]
    },
    {
     "data": {
      "application/vnd.jupyter.widget-view+json": {
       "model_id": "2d20e4d3011346519c26eb6b0a6e4d32",
       "version_major": 2,
       "version_minor": 0
      },
      "text/plain": [
       "HTML(value='<div class=\"header\">金币: 55</div>')"
      ]
     },
     "metadata": {},
     "output_type": "display_data"
    },
    {
     "data": {
      "application/vnd.jupyter.widget-view+json": {
       "model_id": "59282daad04642aba69ce03f75ad8c63",
       "version_major": 2,
       "version_minor": 0
      },
      "text/plain": [
       "GridBox(children=(Button(description='🌱', style=ButtonStyle()), Button(description='⬜', style=ButtonStyle()), …"
      ]
     },
     "metadata": {},
     "output_type": "display_data"
    }
   ],
   "source": [
    "import ipywidgets as widgets\n",
    "from IPython.display import display, HTML\n",
    "\n",
    "# 初始化农场状态\n",
    "user_money = 100\n",
    "plots = [{'status': 'empty', 'crop': None} for _ in range(9)]\n",
    "crops = {\n",
    "    '小麦': {'cost': 10, 'value': 20, 'growth_time': 10},\n",
    "    '玉米': {'cost': 20, 'value': 35, 'growth_time': 15},\n",
    "    '胡萝卜': {'cost': 15, 'value': 25, 'growth_time': 8},\n",
    "    '南瓜': {'cost': 30, 'value': 50, 'growth_time': 20},\n",
    "    '咖啡豆': {'cost': 40, 'value': 70, 'growth_time': 25}\n",
    "}\n",
    "\n",
    "# 定义 CSS 样式\n",
    "css = \"\"\"\n",
    "<style>\n",
    "    .farm-grid {\n",
    "        display: grid;\n",
    "        grid-template-columns: repeat(3, 1fr);\n",
    "        gap: 10px;\n",
    "    }\n",
    "    .plot {\n",
    "        background: #A5D6A7;\n",
    "        padding: 20px;\n",
    "        border-radius: 10px;\n",
    "        text-align: center;\n",
    "        font-size: 24px;\n",
    "    }\n",
    "    .shop-item {\n",
    "        margin: 10px;\n",
    "        padding: 10px;\n",
    "        background: #fff;\n",
    "        border-radius: 5px;\n",
    "    }\n",
    "    .header {\n",
    "        font-size: 18px;\n",
    "        margin-bottom: 10px;\n",
    "    }\n",
    "</style>\n",
    "\"\"\"\n",
    "display(HTML(css))\n",
    "\n",
    "# 显示农场界面\n",
    "def show_farm():\n",
    "    global user_money, plots\n",
    "    header = widgets.HTML(f'<div class=\"header\">金币: {user_money}</div>')\n",
    "    plot_buttons = []\n",
    "    for i, plot in enumerate(plots):\n",
    "        if plot['status'] == 'empty':\n",
    "            display_text = '⬜'\n",
    "        elif plot['status'] == 'growing':\n",
    "            display_text = '🌱'\n",
    "        elif plot['status'] == 'ready':\n",
    "            display_text = '🌻'\n",
    "        button = widgets.Button(description=display_text)\n",
    "        button.index = i\n",
    "        button.on_click(handle_plot_click)\n",
    "        plot_buttons.append(button)\n",
    "\n",
    "    farm_grid = widgets.GridBox(plot_buttons, layout=widgets.Layout(grid_template_columns=\"repeat(3, 1fr)\"))\n",
    "    display(header, farm_grid)\n",
    "\n",
    "# 处理地块点击事件\n",
    "def handle_plot_click(b):\n",
    "    global user_money, plots\n",
    "    index = b.index\n",
    "    plot = plots[index]\n",
    "    if plot['status'] == 'empty':\n",
    "        shop_items = []\n",
    "        for crop, info in crops.items():\n",
    "            if user_money >= info['cost']:\n",
    "                button = widgets.Button(description=f'{crop} (成本: {info[\"cost\"]})')\n",
    "                button.crop = crop\n",
    "                button.plot_index = index\n",
    "                button.on_click(buy_and_plant)\n",
    "                shop_items.append(button)\n",
    "        shop_box = widgets.VBox(shop_items)\n",
    "        display(shop_box)\n",
    "    elif plot['status'] == 'ready':\n",
    "        crop = plot['crop']\n",
    "        user_money += crops[crop]['value']\n",
    "        plot['status'] = 'empty'\n",
    "        plot['crop'] = None\n",
    "        print(f\"收获 {crop}，获得 {crops[crop]['value']} 金币！\")\n",
    "        show_farm()\n",
    "\n",
    "# 购买并种植作物\n",
    "def buy_and_plant(b):\n",
    "    global user_money, plots\n",
    "    crop = b.crop\n",
    "    index = b.plot_index\n",
    "    cost = crops[crop]['cost']\n",
    "    if user_money >= cost:\n",
    "        user_money -= cost\n",
    "        plots[index]['status'] = 'growing'\n",
    "        plots[index]['crop'] = crop\n",
    "        print(f\"成功购买并种植 {crop}！\")\n",
    "        show_farm()\n",
    "    else:\n",
    "        print(\"金币不足，无法购买！\")\n",
    "\n",
    "# 启动农场模拟\n",
    "show_farm()"
   ]
  }
 ],
 "metadata": {
  "kernelspec": {
   "display_name": "Python 3",
   "language": "python",
   "name": "python3"
  },
  "language_info": {
   "codemirror_mode": {
    "name": "ipython",
    "version": 3
   },
   "file_extension": ".py",
   "mimetype": "text/x-python",
   "name": "python",
   "nbconvert_exporter": "python",
   "pygments_lexer": "ipython3",
   "version": "3.12.6"
  }
 },
 "nbformat": 4,
 "nbformat_minor": 2
}
