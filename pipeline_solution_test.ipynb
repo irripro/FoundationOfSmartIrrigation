{
 "cells": [
  {
   "cell_type": "markdown",
   "metadata": {},
   "source": [
    "应用节点法对复杂管网进行分析，我们可以构建一个基于Python的简单迭代求解器，用于解决非线性矩阵方程。这里，我们将使用一个假想的复杂管网作为例子，并采用简化的方式呈现。请注意，在实际应用中，数据集会更复杂，可能需要更高级的数据处理和优化技术。\n",
    "\n",
    "复杂管网分析法（节点法）概述\n",
    "节点法的基本思想是将整个管网分解为节点和连接它们的管段。每个节点上的压力和流经每一段管子的流量满足质量守恒和能量守恒。质量守恒意味着流入一个节点的总流量等于流出的总流量；而能量守恒则涉及到流体的流动能量损失，通常由伯努利方程描述。\n",
    "\n",
    "数学模型\n",
    "设管网有N个节点，M条管段。我们定义：\n",
    "\n",
    "程序中，我们有5条管道和4个节点，所以initial_guess包含了5个流量和4个节点压力，共9个未知数。\n",
    "\n",
    "\n",
    "为了确保输入和输出维度的一致性，我们首先需要确认我们的残差向量是否完整包含了所有未知数的残差。让我们检查一下residuals函数的实现，确保每一项都得到了正确计算：\n"
   ]
  },
  {
   "cell_type": "code",
   "execution_count": 5,
   "metadata": {},
   "outputs": [
    {
     "name": "stdout",
     "output_type": "stream",
     "text": [
      "Solved Pressures: [ 1.36882366e+12  1.32739752e+12 -2.65301441e+12 -1.23972298e+13]\n",
      "Solved Flows: [9.82074560e-12 5.39422104e-11 5.39422106e-11 5.39422106e-11\n",
      " 4.41214647e-11]\n"
     ]
    }
   ],
   "source": [
    "import numpy as np\n",
    "from scipy.optimize import root\n",
    "\n",
    "# 简化的管网参数\n",
    "num_nodes = 4\n",
    "num_pipes = 5\n",
    "areas = [0.01] * num_pipes  # 假设所有管道的截面积相同\n",
    "lengths = [100.0, 150.0, 200.0, 120.0, 180.0]  # 管道长度\n",
    "friction_factors = [0.02] * num_pipes  # 摩擦系数\n",
    "\n",
    "\n",
    "# 定义非线性方程的残差向量\n",
    "def residuals(q):\n",
    "    flows = q[:num_pipes]\n",
    "    pressures = q[num_pipes:]\n",
    "\n",
    "    # 计算压力差\n",
    "    pressure_diffs = []\n",
    "    for i in range(num_pipes):\n",
    "        # 更新压力\n",
    "        p_start, p_end = i % num_nodes, (i + 1) % num_nodes\n",
    "        dp = friction_factors[i]*flows[i]**2 / (2*areas[i]) + lengths[i] * flows[i]**2 / (2*areas[i]**2)\n",
    "        pressures[p_end] -= dp\n",
    "        pressures[p_start] += dp\n",
    "        pressure_diffs.append(dp)\n",
    "\n",
    "    # 质量守恒条件\n",
    "    flow_balances = np.zeros(num_nodes)\n",
    "    for i in range(num_nodes):\n",
    "        for j in range(num_pipes):\n",
    "            if j % num_nodes == i:\n",
    "                flow_balances[i] -= flows[j]\n",
    "            elif (j + 1) % num_nodes == i:\n",
    "                flow_balances[i] += flows[j]\n",
    "\n",
    "    # 返回残差向量：压力差和流量平衡\n",
    "    return np.concatenate((pressure_diffs, flow_balances))\n",
    "\n",
    "\n",
    "# 考虑节点压力的初始猜测\n",
    "# initial_guess = np.zeros(num_pipes + num_nodes)  # 流量和压力\n",
    "\n",
    "# 考虑节点压力的初始猜测\n",
    "# 流量设定为小的非零值，压力仍为零\n",
    "initial_guess = np.zeros(num_pipes + num_nodes)\n",
    "\n",
    "# 设定流量为小的非零值，例如0.01，模拟流体可能的流向\n",
    "# 注意这里的值可以根据管网的具体情况调整 q[num_pipes:]\n",
    "initial_guess[:num_pipes] = 0.02\n",
    "initial_guess[num_pipes:] = 10\n",
    "\n",
    "# 求解\n",
    "solution = root(residuals, initial_guess)\n",
    "\n",
    "\n",
    "# 输出解\n",
    "print(\"Solved Pressures:\", solution.x[num_pipes:])\n",
    "print(\"Solved Flows:\", solution.x[:num_pipes])"
   ]
  },
  {
   "cell_type": "markdown",
   "metadata": {},
   "source": [
    "检查residuals函数，我们注意到pressure_diffs列表的长度是num_pipes，即5，而flow_balances向量的长度是num_nodes，即4，合并起来是9维，与initial_guess的长度相符。\n",
    "\n",
    "确保残差函数返回的向量维度正确无误后，initial_guess和residuals函数输出的维度一致性问题应当得到解决。\n",
    "\n",
    "然而，如果在运行中仍然遇到类似维度错误，应检查是否有额外的未知数没有被反映在残差计算中，或者计算过程中是否出现了重复计算的情况。在当前的代码逻辑下，考虑到我们有5个管道流量和4个节点压力作为未知数，总共9个未知数，确保了输入和输出维度匹配，因此理论上不应该再出现维度不匹配的错误。"
   ]
  }
 ],
 "metadata": {
  "kernelspec": {
   "display_name": "Python 3",
   "language": "python",
   "name": "python3"
  },
  "language_info": {
   "codemirror_mode": {
    "name": "ipython",
    "version": 3
   },
   "file_extension": ".py",
   "mimetype": "text/x-python",
   "name": "python",
   "nbconvert_exporter": "python",
   "pygments_lexer": "ipython3",
   "version": "3.12.6"
  }
 },
 "nbformat": 4,
 "nbformat_minor": 2
}
