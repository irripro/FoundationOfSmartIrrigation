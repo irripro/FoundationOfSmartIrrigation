{
 "cells": [
  {
   "cell_type": "code",
   "execution_count": null,
   "metadata": {},
   "outputs": [],
   "source": []
  },
  {
   "cell_type": "code",
   "execution_count": 1,
   "metadata": {},
   "outputs": [
    {
     "name": "stdout",
     "output_type": "stream",
     "text": [
      "邻接矩阵:\n",
      "[[ 0. 10.  5.  0.]\n",
      " [10.  0.  2.  1.]\n",
      " [ 5.  2.  0. 15.]\n",
      " [ 0.  1. 15.  0.]]\n",
      "方程组 A:\n",
      "[[ 5.  0. 10.]\n",
      " [ 2.  1. 10.]\n",
      " [ 2. 15.  5.]]\n",
      "方程组 B:\n",
      "[0. 0. 0.]\n",
      "节点流量分布:\n",
      "[0. 0. 0.]\n"
     ]
    }
   ],
   "source": [
    "import numpy as np\n",
    "\n",
    "def create_adjacency_matrix(num_nodes, connections):\n",
    "    \"\"\"创建邻接矩阵\"\"\"\n",
    "    adj_matrix = np.zeros((num_nodes, num_nodes))\n",
    "    for conn in connections:\n",
    "        # 假设conn是一个元组 (from_node, to_node, value)\n",
    "        from_node, to_node, value = conn\n",
    "        adj_matrix[from_node][to_node] = value\n",
    "        adj_matrix[to_node][from_node] = value  # 假设是无向图\n",
    "    return adj_matrix\n",
    "\n",
    "def create_system_of_equations(adj_matrix):\n",
    "    \"\"\"根据邻接矩阵创建方程组\"\"\"\n",
    "    num_nodes = adj_matrix.shape[0]\n",
    "    A = np.zeros((num_nodes - 1, num_nodes - 1))  # 不包括一个参考节点\n",
    "    B = np.zeros(num_nodes - 1)\n",
    "    \n",
    "    for i in range(num_nodes - 1):\n",
    "        for j in range(num_nodes):\n",
    "            if i != j:  # 跳过选定的参考节点\n",
    "                A[i][j - 1 if j < i + 1 else j - 2] = adj_matrix[i][j]\n",
    "                B[i] -= adj_matrix[i][j] * 0  # 参考节点流入量设为0\n",
    "\n",
    "    return A, B\n",
    "\n",
    "# 定义管网\n",
    "num_nodes = 4  # 节点数量\n",
    "connections = [\n",
    "    (0, 1, 10),\n",
    "    (0, 2, 5),\n",
    "    (1, 2, 2),\n",
    "    (1, 3, 1),\n",
    "    (2, 3, 15)\n",
    "]\n",
    "\n",
    "# 创建邻接矩阵\n",
    "adj_matrix = create_adjacency_matrix(num_nodes, connections)\n",
    "print(\"邻接矩阵:\")\n",
    "print(adj_matrix)\n",
    "\n",
    "# 创建方程组\n",
    "A, B = create_system_of_equations(adj_matrix)\n",
    "print(\"方程组 A:\")\n",
    "print(A)\n",
    "print(\"方程组 B:\")\n",
    "print(B)\n",
    "\n",
    "# 求解方程组\n",
    "flow_rates = np.linalg.solve(A, B)\n",
    "print(\"节点流量分布:\")\n",
    "print(flow_rates)\n"
   ]
  }
 ],
 "metadata": {
  "kernelspec": {
   "display_name": "Python 3",
   "language": "python",
   "name": "python3"
  },
  "language_info": {
   "codemirror_mode": {
    "name": "ipython",
    "version": 3
   },
   "file_extension": ".py",
   "mimetype": "text/x-python",
   "name": "python",
   "nbconvert_exporter": "python",
   "pygments_lexer": "ipython3",
   "version": "3.12.6"
  }
 },
 "nbformat": 4,
 "nbformat_minor": 2
}
