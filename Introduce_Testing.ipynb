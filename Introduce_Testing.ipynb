{
 "cells": [
  {
   "cell_type": "markdown",
   "metadata": {},
   "source": [
    "### 6. 测试\n",
    "- **单元测试**：学习如何编写测试用例并使用unittest或pytest框架进行自动化测试。\n",
    "- **集成测试**：确保多个组件协同工作时的正确性。"
   ]
  },
  {
   "cell_type": "markdown",
   "metadata": {},
   "source": [
    "在Python中，我们可以使用unittest或pytest框架来进行单元测试和集成测试。下面是使用这两个框架的简单示例。\n",
    "\n",
    "#### 单元测试\n",
    "使用 unittest 框架\n",
    "首先，假设我们有一个简单的函数需要测试："
   ]
  },
  {
   "cell_type": "code",
   "execution_count": null,
   "metadata": {},
   "outputs": [],
   "source": [
    "# my_module.py\n",
    "def add(a, b):\n",
    "    return a + b"
   ]
  },
  {
   "cell_type": "code",
   "execution_count": null,
   "metadata": {},
   "outputs": [],
   "source": [
    "# 定义文件名和要写入的内容\n",
    "filename = 'my_module.py'\n",
    "content = \"\"\"\n",
    "# my_module.py\n",
    "def add(a, b):\n",
    "    return a + b\n",
    "\"\"\"\n",
    "\n",
    "# 使用with语句确保文件正确关闭\n",
    "with open(filename, 'w') as file:\n",
    "    file.write(content)\n",
    "\n",
    "print(f\"文件'{filename}'已写入到当前目录。\")\n"
   ]
  },
  {
   "cell_type": "markdown",
   "metadata": {},
   "source": [
    "然后，我们可以为这个函数编写一个单元测试："
   ]
  },
  {
   "cell_type": "code",
   "execution_count": null,
   "metadata": {},
   "outputs": [],
   "source": [
    "# test_my_module_unittest.py\n",
    "import unittest\n",
    "from my_module import add\n",
    "\n",
    "class TestAddFunction(unittest.TestCase):\n",
    "    def test_add_positive_numbers(self):\n",
    "        self.assertEqual(add(1, 2), 3)\n",
    "\n",
    "    def test_add_negative_numbers(self):\n",
    "        self.assertEqual(add(-1, -2), -3)\n",
    "\n",
    "    def test_add_mixed_numbers(self):\n",
    "        self.assertEqual(add(-1, 1), 0)\n",
    "\n",
    "if __name__ == '__main__':\n",
    "    unittest.main()"
   ]
  },
  {
   "cell_type": "markdown",
   "metadata": {},
   "source": [
    "要运行这些测试，可以在命令行中执行：“python -m unittest test_my_module_unittest.py”"
   ]
  },
  {
   "cell_type": "markdown",
   "metadata": {},
   "source": [
    "使用 pytest 框架\n",
    "对于同一个函数，使用pytest可以这样写测试用例："
   ]
  },
  {
   "cell_type": "code",
   "execution_count": null,
   "metadata": {},
   "outputs": [],
   "source": [
    "# test_my_module_pytest.py\n",
    "from my_module import add\n",
    "\n",
    "def test_add_positive_numbers():\n",
    "    assert add(1, 2) == 3\n",
    "\n",
    "def test_add_negative_numbers():\n",
    "    assert add(-1, -2) == -3\n",
    "\n",
    "def test_add_mixed_numbers():\n",
    "    assert add(-1, 1) == 0"
   ]
  },
  {
   "cell_type": "markdown",
   "metadata": {},
   "source": [
    "要运行这些测试，你需要先安装pytest（如果还没有安装的话）：“pip install pytest”"
   ]
  },
  {
   "cell_type": "markdown",
   "metadata": {},
   "source": [
    "然后在命令行中执行：“pytest test_my_module_pytest.py”"
   ]
  },
  {
   "cell_type": "markdown",
   "metadata": {},
   "source": [
    "#### 集成测试\n",
    "集成测试通常涉及到多个组件之间的交互。这里给出一个简单的例子，假设我们有两个类Database和UserManager，它们之间有交互。\n",
    "\n",
    "被测试的代码"
   ]
  },
  {
   "cell_type": "code",
   "execution_count": null,
   "metadata": {},
   "outputs": [],
   "source": [
    "# database.py\n",
    "class Database:\n",
    "    def __init__(self):\n",
    "        self.data = {}\n",
    "\n",
    "    def save(self, key, value):\n",
    "        self.data[key] = value\n",
    "\n",
    "    def get(self, key):\n",
    "        return self.data.get(key)\n",
    "\n",
    "# user_manager.py\n",
    "from database import Database\n",
    "\n",
    "class UserManager:\n",
    "    def __init__(self):\n",
    "        self.db = Database()\n",
    "\n",
    "    def add_user(self, username, email):\n",
    "        self.db.save(username, email)\n",
    "\n",
    "    def get_user_email(self, username):\n",
    "        return self.db.get(username)"
   ]
  },
  {
   "cell_type": "markdown",
   "metadata": {},
   "source": [
    "#### 使用 unittest 进行集成测试"
   ]
  },
  {
   "cell_type": "code",
   "execution_count": null,
   "metadata": {},
   "outputs": [],
   "source": [
    "# test_integration_unittest.py\n",
    "import unittest\n",
    "from user_manager import UserManager\n",
    "\n",
    "class TestUserManagerIntegration(unittest.TestCase):\n",
    "    def setUp(self):\n",
    "        self.user_manager = UserManager()\n",
    "\n",
    "    def test_add_and_get_user(self):\n",
    "        self.user_manager.add_user('john', 'john@example.com')\n",
    "        email = self.user_manager.get_user_email('john')\n",
    "        self.assertEqual(email, 'john@example.com')\n",
    "\n",
    "if __name__ == '__main__':\n",
    "    unittest.main()"
   ]
  },
  {
   "cell_type": "markdown",
   "metadata": {},
   "source": [
    "#### 使用 pytest 进行集成测试"
   ]
  },
  {
   "cell_type": "code",
   "execution_count": null,
   "metadata": {},
   "outputs": [],
   "source": [
    "# test_integration_pytest.py\n",
    "from user_manager import UserManager\n",
    "\n",
    "def test_add_and_get_user():\n",
    "    user_manager = UserManager()\n",
    "    user_manager.add_user('john', 'john@example.com')\n",
    "    email = user_manager.get_user_email('john')\n",
    "    assert email == 'john@example.com'"
   ]
  },
  {
   "cell_type": "markdown",
   "metadata": {},
   "source": [
    "以上是使用unittest和pytest进行单元测试和集成测试的基本示例。你可以根据自己的项目需求调整这些测试用例。"
   ]
  }
 ],
 "metadata": {
  "kernelspec": {
   "display_name": "Python 3",
   "language": "python",
   "name": "python3"
  },
  "language_info": {
   "name": "python",
   "version": "3.11.0"
  }
 },
 "nbformat": 4,
 "nbformat_minor": 2
}
