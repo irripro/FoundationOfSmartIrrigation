{
 "cells": [
  {
   "cell_type": "code",
   "execution_count": null,
   "metadata": {},
   "outputs": [],
   "source": [
    "import epanet\n",
    "\n",
    "# 建立管网模型\n",
    "d = epanet.EPANET()\n",
    "d.create_project()\n",
    "\n",
    "# 定义节点（示例）\n",
    "d.add_node('水源', 0, 45)  # 水源节点，压力45m\n",
    "d.add_node('干管末端', 1000, 0)\n",
    "d.add_pipe('干管', '水源', '干管末端', 1000, 0.3, 150)\n",
    "\n",
    "# 运行水力分析\n",
    "d.solve()\n",
    "\n",
    "# 输出结果\n",
    "print(f\"干管末端压力: {d.get_node_result('干管末端', 'pressure'):.1f}m\")"
   ]
  }
 ],
 "metadata": {
  "language_info": {
   "name": "python"
  }
 },
 "nbformat": 4,
 "nbformat_minor": 2
}
