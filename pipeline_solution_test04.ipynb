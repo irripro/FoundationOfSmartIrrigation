{
 "cells": [
  {
   "cell_type": "code",
   "execution_count": null,
   "metadata": {},
   "outputs": [],
   "source": []
  },
  {
   "cell_type": "markdown",
   "metadata": {},
   "source": [
    "以下是使用 Python 实现节点法构建复杂管网数学模型的步骤和代码示例：\n",
    "一、步骤\n",
    "定义管网结构：确定节点数量和管道连接关系。可以使用列表或字典来表示节点和管道的连接信息。\n",
    "计算阻力系数：根据管道的长度、直径、粗糙度等参数计算管道的阻力系数。可以使用特定的公式或经验公式来计算阻力系数。\n",
    "构建邻接矩阵：使用图论中的邻接矩阵来表示管网的结构。邻接矩阵是一个二维矩阵，其中行和列分别对应管网中的节点。如果两个节点之间有管道连接，则在邻接矩阵中对应的位置上记录管道的阻力系数；如果两个节点之间没有管道连接，则该位置的值为零。\n",
    "建立节点方程：对于每个节点，根据质量守恒定律（即流入节点的流量等于流出节点的流量）建立方程。假设节点的压力为未知量，通过管道的流量与节点压力之间的关系（通常由管道的阻力方程决定），将节点方程表示为线性方程组。\n",
    "求解线性方程组：使用数值方法求解由节点方程组成的线性方程组，得到各个节点的压力值。常见的数值方法有高斯消元法、LU 分解法等。\n",
    "计算管道流量：一旦知道了节点压力，就可以根据管道的流量与压力关系计算出管道中的流量。\n",
    "二、代码示例"
   ]
  },
  {
   "cell_type": "code",
   "execution_count": 2,
   "metadata": {},
   "outputs": [
    {
     "name": "stdout",
     "output_type": "stream",
     "text": [
      "节点压力： [4.10594832 4.10594832 4.10594832 4.10594832]\n",
      "管道流量： [2.2090243492862866e-10, 0.0, 2.1739604707261867e-10, 2.2090243492862866e-10, 2.1739604707261867e-10]\n"
     ]
    }
   ],
   "source": [
    "import numpy as np\n",
    "from scipy.optimize import fsolve\n",
    "\n",
    "# import networkx as nx\n",
    "# import matplotlib.pyplot as plt\n",
    "\n",
    "# 定义管网结构\n",
    "num_nodes = 4\n",
    "connections = [(0, 1), (1, 2), (2, 3), (0, 2), (1, 3)]\n",
    "\n",
    "# 计算阻力系数的函数\n",
    "def calculate_resistance_coefficient(length, diameter, roughness):\n",
    "    # 这里使用一个简单的公式计算阻力系数，实际应用中可能需要更复杂的公式\n",
    "    return 8 * roughness / (np.pi**2 * diameter**5 * length)\n",
    "\n",
    "# 初始化邻接矩阵\n",
    "adjacency_matrix = np.zeros((num_nodes, num_nodes))\n",
    "for i, j in connections:\n",
    "    # 假设管道长度为 10，直径为 2，粗糙度为 0.1\n",
    "    resistance = calculate_resistance_coefficient(10, 2, 0.1)\n",
    "    adjacency_matrix[i, j] = resistance\n",
    "    adjacency_matrix[j, i] = resistance\n",
    "\n",
    "# 假设节点 0 为水源节点，压力为 10\n",
    "pressure_at_source = 10\n",
    "\n",
    "# 假设节点 3 为排水节点，压力为 0\n",
    "pressure_at_drain = 0\n",
    "\n",
    "# 定义节点方程函数\n",
    "def node_equation(pressures):\n",
    "    equations = []\n",
    "    for i in range(num_nodes):\n",
    "        flow_in = 0\n",
    "        flow_out = 0\n",
    "        for j in range(num_nodes):\n",
    "            if adjacency_matrix[i, j]!= 0:\n",
    "                # 假设流量与压力差成正比，阻力系数为 adjacency_matrix[i, j]\n",
    "                flow = (pressures[i] - pressures[j]) / adjacency_matrix[i, j]\n",
    "                if pressures[i] > pressures[j]:\n",
    "                    flow_out += flow\n",
    "                else:\n",
    "                    flow_in += flow\n",
    "        # 根据质量守恒定律，流入节点的流量等于流出节点的流量\n",
    "        equations.append(flow_in - flow_out)\n",
    "    return equations\n",
    "\n",
    "# 使用 fsolve 函数求解节点压力\n",
    "initial_guess = np.array([15, 5, 5, 0])\n",
    "pressures = fsolve(node_equation, initial_guess)\n",
    "\n",
    "print(\"节点压力：\", pressures)\n",
    "\n",
    "# 计算管道流量\n",
    "flows = []\n",
    "for i, j in connections:\n",
    "    flow = (pressures[i] - pressures[j]) / adjacency_matrix[i, j]\n",
    "    flows.append(flow)\n",
    "\n",
    "print(\"管道流量：\", flows)\n",
    "\n",
    "# 使用 NetworkX 绘制管网拓扑\n",
    "# G = nx.Graph()\n",
    "# for node in nodes:\n",
    "#     G.add_node(node)\n",
    "# for pipe_id, pipe in pipes.items():\n",
    "#     G.add_edge(pipe['start'], pipe['end'], label=pipe_id)\n",
    "\n",
    "# pos = nx.spring_layout(G)\n",
    "# nx.draw(G, pos, with_labels=True, node_color='lightblue', node_size=2000, font_size=10, font_weight='bold')\n",
    "# edge_labels = nx.get_edge_attributes(G, 'label')\n",
    "# nx.draw_networkx_edge_labels(G, pos, edge_labels=edge_labels, font_color='red')\n",
    "\n",
    "# plt.title('管网拓扑图')\n",
    "# plt.show()"
   ]
  },
  {
   "cell_type": "markdown",
   "metadata": {},
   "source": [
    "在上述代码中，首先定义了管网的结构，包括节点数量和管道连接关系。然后，使用一个简单的公式计算管道的阻力系数，并初始化邻接矩阵。接着，定义了节点方程函数，根据质量守恒定律和流量与压力差的关系建立方程。使用 scipy.optimize 模块中的 fsolve 函数求解节点压力。最后，根据节点压力计算管道流量。\n",
    "请注意，这只是一个简单的示例，实际应用中，复杂管网可能需要考虑更多的因素，如不同类型的管道、多个水源和排水节点、动态变化等。在这种情况下，代码需要进行相应的扩展和改进。"
   ]
  }
 ],
 "metadata": {
  "kernelspec": {
   "display_name": "Python 3",
   "language": "python",
   "name": "python3"
  },
  "language_info": {
   "codemirror_mode": {
    "name": "ipython",
    "version": 3
   },
   "file_extension": ".py",
   "mimetype": "text/x-python",
   "name": "python",
   "nbconvert_exporter": "python",
   "pygments_lexer": "ipython3",
   "version": "3.12.6"
  }
 },
 "nbformat": 4,
 "nbformat_minor": 2
}
