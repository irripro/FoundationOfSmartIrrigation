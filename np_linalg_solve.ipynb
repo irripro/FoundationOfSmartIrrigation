{
 "cells": [
  {
   "cell_type": "code",
   "execution_count": 8,
   "metadata": {},
   "outputs": [
    {
     "name": "stdout",
     "output_type": "stream",
     "text": [
      "系数矩阵 A：\n",
      "[[ 33. -22. -12.]\n",
      " [-24. -14.  -6.]\n",
      " [-21.  -1.  -4.]]\n",
      "常数项向量 b：\n",
      "[35. 50. 26.]\n",
      "节点流量：\n",
      "[-0.70591017 -1.3035461  -2.46808511]\n"
     ]
    }
   ],
   "source": [
    "import numpy as np\n",
    "\n",
    "def construct_equations(adjacency_matrix):\n",
    "    num_nodes = len(adjacency_matrix)\n",
    "    # 初始化方程系数矩阵和常数项向量\n",
    "    A = np.zeros((num_nodes, num_nodes))\n",
    "    b = np.zeros(num_nodes)\n",
    "\n",
    "    for i in range(num_nodes):\n",
    "        for j in range(num_nodes):\n",
    "            if adjacency_matrix[i][j]!= 0:\n",
    "                A[i][i] += adjacency_matrix[i][j]\n",
    "                A[i][j] = -adjacency_matrix[i][j]\n",
    "        # 根据流入等于流出（基尔霍夫第一定律）设置常数项\n",
    "        b[i] = sum(adjacency_matrix[i])\n",
    "\n",
    "    return A, b\n",
    "\n",
    "# 示例邻接矩阵表示管网连接情况，正数表示流出节点的流量，负数表示流入节点的流量\n",
    "adj_matrix = np.array([\n",
    "    [1, 22, 12],\n",
    "    [24, 20, 6],\n",
    "    [21, 1, 4]\n",
    "])\n",
    "\n",
    "A, b = construct_equations(adj_matrix)\n",
    "\n",
    "print(\"系数矩阵 A：\")\n",
    "print(A)\n",
    "print(\"常数项向量 b：\")\n",
    "print(b)\n",
    "\n",
    "# 求解方程\n",
    "flows = np.linalg.solve(A, b)\n",
    "print(\"节点流量：\")\n",
    "print(flows)"
   ]
  }
 ],
 "metadata": {
  "kernelspec": {
   "display_name": "Python 3",
   "language": "python",
   "name": "python3"
  },
  "language_info": {
   "codemirror_mode": {
    "name": "ipython",
    "version": 3
   },
   "file_extension": ".py",
   "mimetype": "text/x-python",
   "name": "python",
   "nbconvert_exporter": "python",
   "pygments_lexer": "ipython3",
   "version": "3.12.6"
  }
 },
 "nbformat": 4,
 "nbformat_minor": 2
}
