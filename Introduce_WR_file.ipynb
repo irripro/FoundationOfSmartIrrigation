{
 "cells": [
  {
   "cell_type": "markdown",
   "metadata": {},
   "source": [
    "### 3. 文件操作\n",
    "读写文件：学会使用内置函数（open, read, write, close）来处理文本文件和二进制文件。\n",
    "异常处理：掌握try-except块以处理可能出现的I/O错误。"
   ]
  },
  {
   "cell_type": "markdown",
   "metadata": {},
   "source": [
    "下面是一些基本的Python代码示例，用于演示如何使用内置函数open, read, write 和 close 来处理文本文件和二进制文件，以及如何使用try-except块来处理可能出现的I/O错误。\n",
    "\n",
    "文本文件操作\n",
    "首先，我们来看一个读写文本文件的例子："
   ]
  },
  {
   "cell_type": "code",
   "execution_count": 1,
   "metadata": {},
   "outputs": [
    {
     "name": "stdout",
     "output_type": "stream",
     "text": [
      "Hello, this is a test.\n",
      "We are writing to a text file.\n",
      "\n"
     ]
    }
   ],
   "source": [
    "# 写入文本文件\n",
    "try:\n",
    "    # 以写模式打开文件，如果文件不存在则创建它\n",
    "    with open('example.txt', 'w') as file:\n",
    "        file.write(\"Hello, this is a test.\\n\")\n",
    "        file.write(\"We are writing to a text file.\\n\")\n",
    "except IOError as e:\n",
    "    print(f\"An error occurred while writing to the file: {e}\")\n",
    "\n",
    "# 读取文本文件\n",
    "try:\n",
    "    # 以读模式打开文件\n",
    "    with open('example.txt', 'r') as file:\n",
    "        content = file.read()\n",
    "        print(content)\n",
    "except IOError as e:\n",
    "    print(f\"An error occurred while reading the file: {e}\")"
   ]
  },
  {
   "cell_type": "markdown",
   "metadata": {},
   "source": [
    "在这个例子中，我们使用了with语句来自动管理文件的打开和关闭。with语句会确保即使在读写过程中出现异常，文件也会被正确关闭。\n",
    "\n",
    "二进制文件操作\n",
    "接下来是处理二进制文件的例子："
   ]
  },
  {
   "cell_type": "code",
   "execution_count": 2,
   "metadata": {},
   "outputs": [
    {
     "name": "stdout",
     "output_type": "stream",
     "text": [
      "Read from binary file: b'Hello'\n",
      "As string: Hello\n"
     ]
    }
   ],
   "source": [
    "import os\n",
    "\n",
    "# 写入二进制文件\n",
    "data = bytes([0x48, 0x65, 0x6c, 0x6c, 0x6f])  # \"Hello\" in ASCII\n",
    "try:\n",
    "    with open('example.bin', 'wb') as file:\n",
    "        file.write(data)\n",
    "except IOError as e:\n",
    "    print(f\"An error occurred while writing to the binary file: {e}\")\n",
    "\n",
    "# 读取二进制文件\n",
    "try:\n",
    "    with open('example.bin', 'rb') as file:\n",
    "        content = file.read()\n",
    "        print(f\"Read from binary file: {content}\")\n",
    "        # 将二进制数据转换为字符串\n",
    "        print(f\"As string: {content.decode('ascii')}\")\n",
    "except IOError as e:\n",
    "    print(f\"An error occurred while reading the binary file: {e}\")"
   ]
  },
  {
   "cell_type": "markdown",
   "metadata": {},
   "source": [
    "这里我们使用'wb'（写入二进制）和'rb'（读取二进制）模式来处理二进制数据。我们还展示了如何将读取到的二进制数据解码成ASCII字符串。\n",
    "\n",
    "异常处理\n",
    "上述每个文件操作都包裹在一个try-except块中，这样可以捕获并处理可能发生的IOError。IOError通常会在文件无法打开或读写时抛出。通过这种方式，我们可以优雅地处理这些潜在的错误，并且给出友好的错误消息，而不是让程序因为未处理的异常而崩溃。"
   ]
  }
 ],
 "metadata": {
  "kernelspec": {
   "display_name": "Python 3",
   "language": "python",
   "name": "python3"
  },
  "language_info": {
   "codemirror_mode": {
    "name": "ipython",
    "version": 3
   },
   "file_extension": ".py",
   "mimetype": "text/x-python",
   "name": "python",
   "nbconvert_exporter": "python",
   "pygments_lexer": "ipython3",
   "version": "3.11.0rc2"
  }
 },
 "nbformat": 4,
 "nbformat_minor": 2
}
