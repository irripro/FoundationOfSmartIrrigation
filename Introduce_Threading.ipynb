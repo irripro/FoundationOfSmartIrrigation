{
 "cells": [
  {
   "cell_type": "markdown",
   "metadata": {},
   "source": [
    "### 10. 并发与异步编程\n",
    "- **多线程与多进程**：了解如何在Python中使用threading和multiprocessing模块。\n",
    "- **异步IO**：利用asyncio库进行高效的异步编程。"
   ]
  },
  {
   "cell_type": "markdown",
   "metadata": {},
   "source": [
    "在Python中，我们可以使用threading和multiprocessing模块来实现多线程和多进程。对于异步IO操作，asyncio库提供了强大的支持。下面将分别给出这些技术的基本示例。\n",
    "\n",
    "#### 多线程：使用threading模块\n",
    "#### 多线程示例 (threading_example.py)"
   ]
  },
  {
   "cell_type": "code",
   "execution_count": null,
   "metadata": {},
   "outputs": [],
   "source": [
    "import threading\n",
    "import time\n",
    "\n",
    "def worker(num):\n",
    "    \"\"\"thread worker function\"\"\"\n",
    "    print(f\"Worker: {num} starting\")\n",
    "    time.sleep(2)\n",
    "    print(f\"Worker: {num} finished\")\n",
    "\n",
    "if __name__ == '__main__':\n",
    "    threads = []\n",
    "    for i in range(5):\n",
    "        t = threading.Thread(target=worker, args=(i,))\n",
    "        threads.append(t)\n",
    "        t.start()\n",
    "\n",
    "    # 等待所有线程完成\n",
    "    for t in threads:\n",
    "        t.join()\n",
    "    print(\"All workers completed.\")"
   ]
  },
  {
   "cell_type": "markdown",
   "metadata": {},
   "source": [
    "在这个例子中，我们创建了5个线程，每个线程运行worker函数并等待2秒后结束。\n",
    "\n",
    "#### 多进程：使用multiprocessing模块\n",
    "#### 多进程示例 (multiprocessing_example.py)"
   ]
  },
  {
   "cell_type": "code",
   "execution_count": null,
   "metadata": {},
   "outputs": [],
   "source": [
    "import multiprocessing\n",
    "import time\n",
    "\n",
    "def worker(num):\n",
    "    \"\"\"process worker function\"\"\"\n",
    "    print(f\"Worker: {num} starting\")\n",
    "    time.sleep(2)\n",
    "    print(f\"Worker: {num} finished\")\n",
    "\n",
    "if __name__ == '__main__':\n",
    "    processes = []\n",
    "    for i in range(5):\n",
    "        p = multiprocessing.Process(target=worker, args=(i,))\n",
    "        processes.append(p)\n",
    "        p.start()\n",
    "\n",
    "    # 等待所有进程完成\n",
    "    for p in processes:\n",
    "        p.join()\n",
    "    print(\"All workers completed.\")"
   ]
  },
  {
   "cell_type": "markdown",
   "metadata": {},
   "source": [
    "这个例子与多线程的例子类似，但使用的是multiprocessing模块来创建独立的进程。\n",
    "\n",
    "#### 异步IO：使用asyncio库\n",
    "#### 异步IO示例 (asyncio_example.py)"
   ]
  },
  {
   "cell_type": "code",
   "execution_count": null,
   "metadata": {},
   "outputs": [],
   "source": [
    "import asyncio\n",
    "\n",
    "async def my_coroutine(name, seconds):\n",
    "    \"\"\"一个简单的协程函数\"\"\"\n",
    "    print(f\"{name}: 开始\")\n",
    "    await asyncio.sleep(seconds)\n",
    "    print(f\"{name}: 结束\")\n",
    "\n",
    "async def main():\n",
    "    # 创建多个任务\n",
    "    tasks = [\n",
    "        my_coroutine(\"Task 1\", 2),\n",
    "        my_coroutine(\"Task 2\", 1),\n",
    "        my_coroutine(\"Task 3\", 3)\n",
    "    ]\n",
    "    \n",
    "    # 并行运行所有任务\n",
    "    await asyncio.gather(*tasks)\n",
    "\n",
    "# 运行事件循环\n",
    "if __name__ == '__main__':\n",
    "    asyncio.run(main())"
   ]
  },
  {
   "cell_type": "markdown",
   "metadata": {},
   "source": [
    "在这个例子中，我们定义了一个协程my_coroutine，它会打印开始信息，暂停指定的时间（模拟IO操作），然后打印结束信息。main函数创建了三个协程任务，并使用asyncio.gather来并发执行它们。最后，我们使用asyncio.run来启动事件循环并运行main协程。\n",
    "\n",
    "以上代码展示了如何在Python中使用多线程、多进程以及异步IO进行并发编程。"
   ]
  }
 ],
 "metadata": {
  "language_info": {
   "name": "python"
  }
 },
 "nbformat": 4,
 "nbformat_minor": 2
}
