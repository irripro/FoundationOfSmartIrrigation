# 单行注释

"""
这是
多行注释
"""

# 缩进示例
if True:
    print("这是正确的缩进")
# 整型
a = 10

# 浮点型
b = 3.14

# 字符串
c = "Hello, World!"

# 列表
d = [1, 2, 3, 4, 5]

# 元组
e = (1, 2, 3)

# 字典
f = {"name": "Alice", "age": 25}

print(a, b, c, d, e, f)
