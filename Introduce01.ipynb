{
 "cells": [
  {
   "cell_type": "markdown",
   "metadata": {},
   "source": [
    "### 1. Python 基础\n",
    "- **语法**：学习Python的基本语法规则，如缩进、注释等。\n"
   ]
  },
  {
   "cell_type": "code",
   "execution_count": 2,
   "metadata": {},
   "outputs": [
    {
     "name": "stdout",
     "output_type": "stream",
     "text": [
      "这是正确的缩进\n"
     ]
    }
   ],
   "source": [
    "# 单行注释\n",
    "\n",
    "\"\"\"\n",
    "这是\n",
    "多行注释\n",
    "\"\"\"\n",
    "\n",
    "# 缩进示例\n",
    "if True:\n",
    "    print(\"这是正确的缩进\")"
   ]
  },
  {
   "cell_type": "markdown",
   "metadata": {},
   "source": [
    "- **变量与数据类型**：了解如何声明变量以及Python中的基本数据类型，如整型（int）、浮点型（float）、字符串（str）、列表（list）、元组（tuple）、字典（dict）等。\n"
   ]
  },
  {
   "cell_type": "code",
   "execution_count": 3,
   "metadata": {},
   "outputs": [
    {
     "name": "stdout",
     "output_type": "stream",
     "text": [
      "10 3.14 Hello, World! [1, 2, 3, 4, 5] (1, 2, 3) {'name': 'Alice', 'age': 25}\n"
     ]
    }
   ],
   "source": [
    "# 整型\n",
    "a = 10\n",
    "\n",
    "# 浮点型\n",
    "b = 3.14\n",
    "\n",
    "# 字符串\n",
    "c = \"Hello, World!\"\n",
    "\n",
    "# 列表\n",
    "d = [1, 2, 3, 4, 5]\n",
    "\n",
    "# 元组\n",
    "e = (1, 2, 3)\n",
    "\n",
    "# 字典\n",
    "f = {\"name\": \"Alice\", \"age\": 25}\n",
    "\n",
    "print(a, b, c, d, e, f)"
   ]
  },
  {
   "cell_type": "markdown",
   "metadata": {},
   "source": [
    "- **控制结构**：掌握条件语句（if-elif-else）、循环（for, while）等。\n"
   ]
  },
  {
   "cell_type": "code",
   "execution_count": 4,
   "metadata": {},
   "outputs": [
    {
     "name": "stdout",
     "output_type": "stream",
     "text": [
      "x 是正数\n",
      "0\n",
      "1\n",
      "2\n",
      "3\n",
      "4\n",
      "0\n",
      "1\n",
      "2\n",
      "3\n",
      "4\n"
     ]
    }
   ],
   "source": [
    "# 条件语句\n",
    "x = 10\n",
    "if x > 0:\n",
    "    print(\"x 是正数\")\n",
    "elif x == 0:\n",
    "    print(\"x 是零\")\n",
    "else:\n",
    "    print(\"x 是负数\")\n",
    "\n",
    "# for 循环\n",
    "for i in range(5):\n",
    "    print(i)\n",
    "\n",
    "# while 循环\n",
    "count = 0\n",
    "while count < 5:\n",
    "    print(count)\n",
    "    count += 1"
   ]
  },
  {
   "cell_type": "markdown",
   "metadata": {},
   "source": [
    "- **函数**：学习如何定义和使用函数，包括参数传递、返回值等。\n"
   ]
  },
  {
   "cell_type": "code",
   "execution_count": 5,
   "metadata": {},
   "outputs": [
    {
     "name": "stdout",
     "output_type": "stream",
     "text": [
      "Hello, Alice!\n",
      "8\n"
     ]
    }
   ],
   "source": [
    "def greet(name):\n",
    "    return f\"Hello, {name}!\"\n",
    "\n",
    "def add(a, b):\n",
    "    return a + b\n",
    "\n",
    "print(greet(\"Alice\"))  # 输出: Hello, Alice!\n",
    "print(add(3, 5))      # 输出: 8"
   ]
  },
  {
   "cell_type": "markdown",
   "metadata": {},
   "source": [
    "- **模块与包**：理解如何导入和使用模块，以及如何组织代码为包。\n",
    "模块是一个包含所有你定义的函数和变量的文件，而包则是一个包含多个模块的目录。你可以使用 import 语句来导入模块或包中的内容。\n",
    "\n",
    "假设我们有一个名为 mymodule.py 的模块文件："
   ]
  },
  {
   "cell_type": "code",
   "execution_count": 6,
   "metadata": {},
   "outputs": [],
   "source": [
    "# mymodule.py\n",
    "\n",
    "def say_hello():\n",
    "    print(\"Hello from mymodule!\")\n",
    "\n",
    "def multiply(a, b):\n",
    "    return a * b"
   ]
  },
  {
   "cell_type": "code",
   "execution_count": 8,
   "metadata": {},
   "outputs": [
    {
     "name": "stdout",
     "output_type": "stream",
     "text": [
      "mymodule.py 已经被创建并保存在当前目录下。\n"
     ]
    }
   ],
   "source": [
    "# 定义模块的内容\n",
    "module_content = \"\"\"\n",
    "# mymodule.py\n",
    "def say_hello():\n",
    "    print(\"Hello from mymodule!\")\n",
    "\n",
    "def multiply(a, b):\n",
    "    return a * b\n",
    "\"\"\"\n",
    "\n",
    "# 将内容写入到 mymodule.py 文件中\n",
    "with open('mymodule.py', 'w') as file:\n",
    "    file.write(module_content)\n",
    "\n",
    "print(\"mymodule.py 已经被创建并保存在当前目录下。\")"
   ]
  },
  {
   "cell_type": "markdown",
   "metadata": {},
   "source": [
    "然后在另一个文件中导入并使用这个模块："
   ]
  },
  {
   "cell_type": "code",
   "execution_count": 9,
   "metadata": {},
   "outputs": [
    {
     "name": "stdout",
     "output_type": "stream",
     "text": [
      "Hello from mymodule!\n",
      "20\n"
     ]
    }
   ],
   "source": [
    "# main.py\n",
    "import mymodule\n",
    "\n",
    "mymodule.say_hello()  # 输出: Hello from mymodule!\n",
    "result = mymodule.multiply(4, 5)\n",
    "print(result)          # 输出: 20"
   ]
  },
  {
   "cell_type": "markdown",
   "metadata": {},
   "source": [
    "此外，你还可以从模块中导入特定的函数或变量：\n"
   ]
  },
  {
   "cell_type": "code",
   "execution_count": 10,
   "metadata": {},
   "outputs": [
    {
     "name": "stdout",
     "output_type": "stream",
     "text": [
      "Hello from mymodule!\n",
      "20\n"
     ]
    }
   ],
   "source": [
    "from mymodule import say_hello, multiply\n",
    "\n",
    "say_hello()  # 输出: Hello from mymodule!\n",
    "result = multiply(4, 5)\n",
    "print(result)  # 输出: 20"
   ]
  },
  {
   "cell_type": "markdown",
   "metadata": {},
   "source": [
    "这些示例代码展示了 Python 中的一些基础概念。通过实践这些代码，你可以更好地理解和掌握 Python 编程的基础知识。"
   ]
  }
 ],
 "metadata": {
  "kernelspec": {
   "display_name": "Python 3",
   "language": "python",
   "name": "python3"
  },
  "language_info": {
   "codemirror_mode": {
    "name": "ipython",
    "version": 3
   },
   "file_extension": ".py",
   "mimetype": "text/x-python",
   "name": "python",
   "nbconvert_exporter": "python",
   "pygments_lexer": "ipython3",
   "version": "3.11.0rc2"
  }
 },
 "nbformat": 4,
 "nbformat_minor": 2
}
