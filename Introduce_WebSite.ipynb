{
 "cells": [
  {
   "cell_type": "markdown",
   "metadata": {},
   "source": [
    "### 8. 网络编程\n",
    "- **套接字编程**：了解TCP/IP协议及如何使用socket库建立网络连接。\n",
    "- **Web框架**：初步接触Flask或Django这样的Web框架，了解MVC架构。"
   ]
  },
  {
   "cell_type": "markdown",
   "metadata": {},
   "source": [
    "在这一部分，我们将介绍如何使用Python进行套接字编程以及如何使用一个简单的Web框架（如Flask）来创建Web应用。\n",
    "\n",
    "套接字编程\n",
    "套接字是网络通信的基础。在Python中，我们可以使用socket库来进行TCP/IP协议的编程。下面是一个简单的客户端-服务器示例。\n",
    "\n",
    "#### 服务器端代码 (server.py)"
   ]
  },
  {
   "cell_type": "code",
   "execution_count": null,
   "metadata": {},
   "outputs": [],
   "source": [
    "import socket\n",
    "\n",
    "def start_server(host='127.0.0.1', port=65432):\n",
    "    with socket.socket(socket.AF_INET, socket.SOCK_STREAM) as s:\n",
    "        s.bind((host, port))\n",
    "        s.listen()\n",
    "        print(f\"Server listening on {host}:{port}\")\n",
    "        conn, addr = s.accept()\n",
    "        with conn:\n",
    "            print('Connected by', addr)\n",
    "            while True:\n",
    "                data = conn.recv(1024)\n",
    "                if not data:\n",
    "                    break\n",
    "                print(f\"Received: {data.decode()}\")\n",
    "                conn.sendall(data)\n",
    "\n",
    "if __name__ == '__main__':\n",
    "    start_server()"
   ]
  },
  {
   "cell_type": "markdown",
   "metadata": {},
   "source": [
    "#### 客户端代码 (client.py)"
   ]
  },
  {
   "cell_type": "code",
   "execution_count": null,
   "metadata": {},
   "outputs": [],
   "source": [
    "import socket\n",
    "\n",
    "def start_client(host='127.0.0.1', port=65432):\n",
    "    with socket.socket(socket.AF_INET, socket.SOCK_STREAM) as s:\n",
    "        s.connect((host, port))\n",
    "        message = 'Hello, Server!'\n",
    "        s.sendall(message.encode())\n",
    "        data = s.recv(1024)\n",
    "        print(f\"Received from server: {data.decode()}\")\n",
    "\n",
    "if __name__ == '__main__':\n",
    "    start_client()"
   ]
  },
  {
   "cell_type": "markdown",
   "metadata": {},
   "source": [
    "要运行这些代码，首先启动服务器，然后启动客户端。服务器会接收来自客户端的消息，并将其回传给客户端。\n",
    "\n",
    "#### Web框架：Flask\n",
    "Flask是一个轻量级的Web框架，它非常适合快速开发小型到中型的应用程序。下面是使用Flask创建一个简单Web应用的例子。\n",
    "\n",
    "#### 安装Flask\n",
    "确保你已经安装了Flask。如果没有安装，可以通过pip来安装：“pip install Flask”"
   ]
  },
  {
   "cell_type": "code",
   "execution_count": null,
   "metadata": {},
   "outputs": [],
   "source": [
    "from flask import Flask, render_template, request\n",
    "\n",
    "app = Flask(__name__)\n",
    "\n",
    "@app.route('/')\n",
    "def home():\n",
    "    return \"Welcome to the Home Page!\"\n",
    "\n",
    "@app.route('/greet/<name>')\n",
    "def greet(name):\n",
    "    return f\"Hello, {name}! Welcome to our website.\"\n",
    "\n",
    "@app.route('/submit', methods=['POST'])\n",
    "def submit():\n",
    "    name = request.form['name']\n",
    "    return f\"Thanks for submitting, {name}!\"\n",
    "\n",
    "if __name__ == '__main__':\n",
    "    app.run(debug=True)"
   ]
  },
  {
   "cell_type": "markdown",
   "metadata": {},
   "source": [
    "在这个例子中，我们定义了三个路由：\n",
    "\n",
    "/ 显示欢迎信息。\n",
    "/greet/<name> 根据URL中的参数显示问候信息。\n",
    "/submit 处理表单提交，并返回感谢信息。\n",
    "#### HTML模板 (templates/form.html)\n",
    "为了让用户能够提交表单，我们需要一个简单的HTML文件。在Flask项目中，通常将HTML文件放在templates目录下。"
   ]
  },
  {
   "cell_type": "code",
   "execution_count": null,
   "metadata": {
    "vscode": {
     "languageId": "html"
    }
   },
   "outputs": [],
   "source": [
    "<!DOCTYPE html>\n",
    "<html lang=\"en\">\n",
    "<head>\n",
    "    <meta charset=\"UTF-8\">\n",
    "    <title>Submit Form</title>\n",
    "</head>\n",
    "<body>\n",
    "    <h1>Submit Your Name</h1>\n",
    "    <form action=\"/submit\" method=\"post\">\n",
    "        <label for=\"name\">Name:</label>\n",
    "        <input type=\"text\" id=\"name\" name=\"name\">\n",
    "        <button type=\"submit\">Submit</button>\n",
    "    </form>\n",
    "</body>\n",
    "</html>"
   ]
  },
  {
   "cell_type": "markdown",
   "metadata": {},
   "source": [
    "#### 修改Flask应用以渲染模板\n",
    "为了使用上面的HTML模板，我们需要稍微修改app.py来渲染这个模板。"
   ]
  },
  {
   "cell_type": "code",
   "execution_count": null,
   "metadata": {},
   "outputs": [],
   "source": [
    "# 在其他导入之后添加\n",
    "from flask import render_template\n",
    "\n",
    "# 新增一个路由来展示表单\n",
    "@app.route('/form')\n",
    "def form():\n",
    "    return render_template('form.html')\n",
    "\n",
    "# 修改home函数，使其重定向到表单页面\n",
    "@app.route('/')\n",
    "def home():\n",
    "    return redirect(url_for('form'))"
   ]
  },
  {
   "cell_type": "markdown",
   "metadata": {},
   "source": [
    "现在，当你访问主页时，会被重定向到表单页面，用户可以填写并提交表单。\n",
    "\n",
    "以上就是使用Python进行套接字编程和使用Flask创建简单Web应用的基本示例。"
   ]
  }
 ],
 "metadata": {
  "language_info": {
   "name": "python"
  }
 },
 "nbformat": 4,
 "nbformat_minor": 2
}
